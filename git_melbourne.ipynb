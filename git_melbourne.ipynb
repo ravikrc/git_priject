{
 "cells": [
  {
   "cell_type": "code",
   "execution_count": 1,
   "metadata": {},
   "outputs": [],
   "source": [
    "import pandas as pd\n",
    "import numpy as np\n",
    "import regex"
   ]
  },
  {
   "cell_type": "code",
   "execution_count": 2,
   "metadata": {},
   "outputs": [],
   "source": [
    "df = pd.read_csv('user_details.csv')"
   ]
  },
  {
   "cell_type": "code",
   "execution_count": 3,
   "metadata": {},
   "outputs": [
    {
     "data": {
      "text/html": [
       "<div>\n",
       "<style scoped>\n",
       "    .dataframe tbody tr th:only-of-type {\n",
       "        vertical-align: middle;\n",
       "    }\n",
       "\n",
       "    .dataframe tbody tr th {\n",
       "        vertical-align: top;\n",
       "    }\n",
       "\n",
       "    .dataframe thead th {\n",
       "        text-align: right;\n",
       "    }\n",
       "</style>\n",
       "<table border=\"1\" class=\"dataframe\">\n",
       "  <thead>\n",
       "    <tr style=\"text-align: right;\">\n",
       "      <th></th>\n",
       "      <th>URL</th>\n",
       "      <th>Name</th>\n",
       "      <th>Location</th>\n",
       "      <th>Stars</th>\n",
       "      <th>Followers</th>\n",
       "      <th>Following</th>\n",
       "    </tr>\n",
       "  </thead>\n",
       "  <tbody>\n",
       "    <tr>\n",
       "      <th>0</th>\n",
       "      <td>https://github.com/charliesome</td>\n",
       "      <td>Charlie Somerville</td>\n",
       "      <td>Melbourne, Australia</td>\n",
       "      <td>270</td>\n",
       "      <td>7.8k</td>\n",
       "      <td>103</td>\n",
       "    </tr>\n",
       "    <tr>\n",
       "      <th>1</th>\n",
       "      <td>https://github.com/mosh-hamedani</td>\n",
       "      <td>Mosh Hamedani</td>\n",
       "      <td>Melbourne, Australia</td>\n",
       "      <td>0</td>\n",
       "      <td>3.8k</td>\n",
       "      <td>1</td>\n",
       "    </tr>\n",
       "    <tr>\n",
       "      <th>2</th>\n",
       "      <td>https://github.com/JakeLin</td>\n",
       "      <td>Jake Lin</td>\n",
       "      <td>Melbourne, Australia</td>\n",
       "      <td>575</td>\n",
       "      <td>2.5k</td>\n",
       "      <td>35</td>\n",
       "    </tr>\n",
       "    <tr>\n",
       "      <th>3</th>\n",
       "      <td>https://github.com/TheCherno</td>\n",
       "      <td>Yan Chernikov</td>\n",
       "      <td>Melbourne, Australia</td>\n",
       "      <td>19</td>\n",
       "      <td>2.2k</td>\n",
       "      <td>3</td>\n",
       "    </tr>\n",
       "    <tr>\n",
       "      <th>4</th>\n",
       "      <td>https://github.com/radar</td>\n",
       "      <td>Ryan Bigg</td>\n",
       "      <td>Melbourne, Australia</td>\n",
       "      <td>166</td>\n",
       "      <td>1.7k</td>\n",
       "      <td>5</td>\n",
       "    </tr>\n",
       "  </tbody>\n",
       "</table>\n",
       "</div>"
      ],
      "text/plain": [
       "                                URL                Name              Location  \\\n",
       "0    https://github.com/charliesome  Charlie Somerville  Melbourne, Australia   \n",
       "1  https://github.com/mosh-hamedani       Mosh Hamedani  Melbourne, Australia   \n",
       "2        https://github.com/JakeLin            Jake Lin  Melbourne, Australia   \n",
       "3      https://github.com/TheCherno       Yan Chernikov  Melbourne, Australia   \n",
       "4          https://github.com/radar           Ryan Bigg  Melbourne, Australia   \n",
       "\n",
       "  Stars Followers Following  \n",
       "0   270      7.8k       103  \n",
       "1     0      3.8k         1  \n",
       "2   575      2.5k        35  \n",
       "3    19      2.2k         3  \n",
       "4   166      1.7k         5  "
      ]
     },
     "execution_count": 3,
     "metadata": {},
     "output_type": "execute_result"
    }
   ],
   "source": [
    "df.head()"
   ]
  },
  {
   "cell_type": "code",
   "execution_count": 4,
   "metadata": {},
   "outputs": [],
   "source": [
    "df['Location'] = 'Melbourne'"
   ]
  },
  {
   "cell_type": "code",
   "execution_count": 5,
   "metadata": {},
   "outputs": [
    {
     "data": {
      "text/html": [
       "<div>\n",
       "<style scoped>\n",
       "    .dataframe tbody tr th:only-of-type {\n",
       "        vertical-align: middle;\n",
       "    }\n",
       "\n",
       "    .dataframe tbody tr th {\n",
       "        vertical-align: top;\n",
       "    }\n",
       "\n",
       "    .dataframe thead th {\n",
       "        text-align: right;\n",
       "    }\n",
       "</style>\n",
       "<table border=\"1\" class=\"dataframe\">\n",
       "  <thead>\n",
       "    <tr style=\"text-align: right;\">\n",
       "      <th></th>\n",
       "      <th>URL</th>\n",
       "      <th>Name</th>\n",
       "      <th>Location</th>\n",
       "      <th>Stars</th>\n",
       "      <th>Followers</th>\n",
       "      <th>Following</th>\n",
       "    </tr>\n",
       "  </thead>\n",
       "  <tbody>\n",
       "    <tr>\n",
       "      <th>0</th>\n",
       "      <td>https://github.com/charliesome</td>\n",
       "      <td>Charlie Somerville</td>\n",
       "      <td>Melbourne</td>\n",
       "      <td>270</td>\n",
       "      <td>7.8k</td>\n",
       "      <td>103</td>\n",
       "    </tr>\n",
       "    <tr>\n",
       "      <th>1</th>\n",
       "      <td>https://github.com/mosh-hamedani</td>\n",
       "      <td>Mosh Hamedani</td>\n",
       "      <td>Melbourne</td>\n",
       "      <td>0</td>\n",
       "      <td>3.8k</td>\n",
       "      <td>1</td>\n",
       "    </tr>\n",
       "    <tr>\n",
       "      <th>2</th>\n",
       "      <td>https://github.com/JakeLin</td>\n",
       "      <td>Jake Lin</td>\n",
       "      <td>Melbourne</td>\n",
       "      <td>575</td>\n",
       "      <td>2.5k</td>\n",
       "      <td>35</td>\n",
       "    </tr>\n",
       "    <tr>\n",
       "      <th>3</th>\n",
       "      <td>https://github.com/TheCherno</td>\n",
       "      <td>Yan Chernikov</td>\n",
       "      <td>Melbourne</td>\n",
       "      <td>19</td>\n",
       "      <td>2.2k</td>\n",
       "      <td>3</td>\n",
       "    </tr>\n",
       "    <tr>\n",
       "      <th>4</th>\n",
       "      <td>https://github.com/radar</td>\n",
       "      <td>Ryan Bigg</td>\n",
       "      <td>Melbourne</td>\n",
       "      <td>166</td>\n",
       "      <td>1.7k</td>\n",
       "      <td>5</td>\n",
       "    </tr>\n",
       "  </tbody>\n",
       "</table>\n",
       "</div>"
      ],
      "text/plain": [
       "                                URL                Name   Location Stars  \\\n",
       "0    https://github.com/charliesome  Charlie Somerville  Melbourne   270   \n",
       "1  https://github.com/mosh-hamedani       Mosh Hamedani  Melbourne     0   \n",
       "2        https://github.com/JakeLin            Jake Lin  Melbourne   575   \n",
       "3      https://github.com/TheCherno       Yan Chernikov  Melbourne    19   \n",
       "4          https://github.com/radar           Ryan Bigg  Melbourne   166   \n",
       "\n",
       "  Followers Following  \n",
       "0      7.8k       103  \n",
       "1      3.8k         1  \n",
       "2      2.5k        35  \n",
       "3      2.2k         3  \n",
       "4      1.7k         5  "
      ]
     },
     "execution_count": 5,
     "metadata": {},
     "output_type": "execute_result"
    }
   ],
   "source": [
    "df.head()"
   ]
  },
  {
   "cell_type": "code",
   "execution_count": 6,
   "metadata": {},
   "outputs": [
    {
     "data": {
      "text/plain": [
       "(1000, 6)"
      ]
     },
     "execution_count": 6,
     "metadata": {},
     "output_type": "execute_result"
    }
   ],
   "source": [
    "df.shape"
   ]
  },
  {
   "cell_type": "code",
   "execution_count": 7,
   "metadata": {},
   "outputs": [
    {
     "data": {
      "text/plain": [
       "URL          0\n",
       "Name         0\n",
       "Location     0\n",
       "Stars        0\n",
       "Followers    0\n",
       "Following    0\n",
       "dtype: int64"
      ]
     },
     "execution_count": 7,
     "metadata": {},
     "output_type": "execute_result"
    }
   ],
   "source": [
    "df.isnull().sum()"
   ]
  },
  {
   "cell_type": "code",
   "execution_count": 8,
   "metadata": {},
   "outputs": [
    {
     "name": "stdout",
     "output_type": "stream",
     "text": [
      "<class 'pandas.core.frame.DataFrame'>\n",
      "RangeIndex: 1000 entries, 0 to 999\n",
      "Data columns (total 6 columns):\n",
      "URL          1000 non-null object\n",
      "Name         1000 non-null object\n",
      "Location     1000 non-null object\n",
      "Stars        1000 non-null object\n",
      "Followers    1000 non-null object\n",
      "Following    1000 non-null object\n",
      "dtypes: object(6)\n",
      "memory usage: 47.0+ KB\n"
     ]
    }
   ],
   "source": [
    "df.info()"
   ]
  },
  {
   "cell_type": "code",
   "execution_count": 9,
   "metadata": {},
   "outputs": [],
   "source": [
    "df.Followers = (df.Followers.replace(r'[k]', '', regex=True).astype(float) * \\\n",
    "df.Followers.str.extract(r'[\\d\\.]+([k])', expand=False).fillna(1).replace(['k'], [10**3]).astype(int))"
   ]
  },
  {
   "cell_type": "code",
   "execution_count": 10,
   "metadata": {},
   "outputs": [],
   "source": [
    "#df.Following = (df.Following.replace(r'[k]', '', regex=True).astype(float) * \\\n",
    "#df.Following.str.extract(r'[\\d\\.]+([k])', expand=False).fillna(1).replace(['k'], [10**3]).astype(int))"
   ]
  },
  {
   "cell_type": "code",
   "execution_count": 11,
   "metadata": {},
   "outputs": [],
   "source": [
    "#df.Stars = (df.Stars.replace(r'[k]', '', regex=True).astype(float) * \\\n",
    "#df.Stars.str.extract(r'[\\d\\.]+([k])', expand=False).fillna(1).replace(['k'], [10**3]).astype(int))"
   ]
  },
  {
   "cell_type": "code",
   "execution_count": 12,
   "metadata": {},
   "outputs": [
    {
     "data": {
      "text/html": [
       "<div>\n",
       "<style scoped>\n",
       "    .dataframe tbody tr th:only-of-type {\n",
       "        vertical-align: middle;\n",
       "    }\n",
       "\n",
       "    .dataframe tbody tr th {\n",
       "        vertical-align: top;\n",
       "    }\n",
       "\n",
       "    .dataframe thead th {\n",
       "        text-align: right;\n",
       "    }\n",
       "</style>\n",
       "<table border=\"1\" class=\"dataframe\">\n",
       "  <thead>\n",
       "    <tr style=\"text-align: right;\">\n",
       "      <th></th>\n",
       "      <th>URL</th>\n",
       "      <th>Name</th>\n",
       "      <th>Location</th>\n",
       "      <th>Stars</th>\n",
       "      <th>Followers</th>\n",
       "      <th>Following</th>\n",
       "    </tr>\n",
       "  </thead>\n",
       "  <tbody>\n",
       "    <tr>\n",
       "      <th>0</th>\n",
       "      <td>https://github.com/charliesome</td>\n",
       "      <td>Charlie Somerville</td>\n",
       "      <td>Melbourne</td>\n",
       "      <td>270</td>\n",
       "      <td>7800.0</td>\n",
       "      <td>103</td>\n",
       "    </tr>\n",
       "    <tr>\n",
       "      <th>1</th>\n",
       "      <td>https://github.com/mosh-hamedani</td>\n",
       "      <td>Mosh Hamedani</td>\n",
       "      <td>Melbourne</td>\n",
       "      <td>0</td>\n",
       "      <td>3800.0</td>\n",
       "      <td>1</td>\n",
       "    </tr>\n",
       "    <tr>\n",
       "      <th>2</th>\n",
       "      <td>https://github.com/JakeLin</td>\n",
       "      <td>Jake Lin</td>\n",
       "      <td>Melbourne</td>\n",
       "      <td>575</td>\n",
       "      <td>2500.0</td>\n",
       "      <td>35</td>\n",
       "    </tr>\n",
       "    <tr>\n",
       "      <th>3</th>\n",
       "      <td>https://github.com/TheCherno</td>\n",
       "      <td>Yan Chernikov</td>\n",
       "      <td>Melbourne</td>\n",
       "      <td>19</td>\n",
       "      <td>2200.0</td>\n",
       "      <td>3</td>\n",
       "    </tr>\n",
       "    <tr>\n",
       "      <th>4</th>\n",
       "      <td>https://github.com/radar</td>\n",
       "      <td>Ryan Bigg</td>\n",
       "      <td>Melbourne</td>\n",
       "      <td>166</td>\n",
       "      <td>1700.0</td>\n",
       "      <td>5</td>\n",
       "    </tr>\n",
       "  </tbody>\n",
       "</table>\n",
       "</div>"
      ],
      "text/plain": [
       "                                URL                Name   Location Stars  \\\n",
       "0    https://github.com/charliesome  Charlie Somerville  Melbourne   270   \n",
       "1  https://github.com/mosh-hamedani       Mosh Hamedani  Melbourne     0   \n",
       "2        https://github.com/JakeLin            Jake Lin  Melbourne   575   \n",
       "3      https://github.com/TheCherno       Yan Chernikov  Melbourne    19   \n",
       "4          https://github.com/radar           Ryan Bigg  Melbourne   166   \n",
       "\n",
       "   Followers Following  \n",
       "0     7800.0       103  \n",
       "1     3800.0         1  \n",
       "2     2500.0        35  \n",
       "3     2200.0         3  \n",
       "4     1700.0         5  "
      ]
     },
     "execution_count": 12,
     "metadata": {},
     "output_type": "execute_result"
    }
   ],
   "source": [
    "df.head()"
   ]
  },
  {
   "cell_type": "code",
   "execution_count": 13,
   "metadata": {},
   "outputs": [],
   "source": [
    "df['Followers'] = df['Followers'].astype(str).str[:-2].astype(np.int64)\n",
    "#df['Following'] = df['Following'].astype(str).str[:-2].astype(np.int64)\n",
    "#df['Stars'] = df['Stars'].astype(str).str[:-2].astype(np.int64)\n"
   ]
  },
  {
   "cell_type": "code",
   "execution_count": 14,
   "metadata": {},
   "outputs": [
    {
     "data": {
      "text/html": [
       "<div>\n",
       "<style scoped>\n",
       "    .dataframe tbody tr th:only-of-type {\n",
       "        vertical-align: middle;\n",
       "    }\n",
       "\n",
       "    .dataframe tbody tr th {\n",
       "        vertical-align: top;\n",
       "    }\n",
       "\n",
       "    .dataframe thead th {\n",
       "        text-align: right;\n",
       "    }\n",
       "</style>\n",
       "<table border=\"1\" class=\"dataframe\">\n",
       "  <thead>\n",
       "    <tr style=\"text-align: right;\">\n",
       "      <th></th>\n",
       "      <th>URL</th>\n",
       "      <th>Name</th>\n",
       "      <th>Location</th>\n",
       "      <th>Stars</th>\n",
       "      <th>Followers</th>\n",
       "      <th>Following</th>\n",
       "    </tr>\n",
       "  </thead>\n",
       "  <tbody>\n",
       "    <tr>\n",
       "      <th>0</th>\n",
       "      <td>https://github.com/charliesome</td>\n",
       "      <td>Charlie Somerville</td>\n",
       "      <td>Melbourne</td>\n",
       "      <td>270</td>\n",
       "      <td>7800</td>\n",
       "      <td>103</td>\n",
       "    </tr>\n",
       "    <tr>\n",
       "      <th>1</th>\n",
       "      <td>https://github.com/mosh-hamedani</td>\n",
       "      <td>Mosh Hamedani</td>\n",
       "      <td>Melbourne</td>\n",
       "      <td>0</td>\n",
       "      <td>3800</td>\n",
       "      <td>1</td>\n",
       "    </tr>\n",
       "    <tr>\n",
       "      <th>2</th>\n",
       "      <td>https://github.com/JakeLin</td>\n",
       "      <td>Jake Lin</td>\n",
       "      <td>Melbourne</td>\n",
       "      <td>575</td>\n",
       "      <td>2500</td>\n",
       "      <td>35</td>\n",
       "    </tr>\n",
       "    <tr>\n",
       "      <th>3</th>\n",
       "      <td>https://github.com/TheCherno</td>\n",
       "      <td>Yan Chernikov</td>\n",
       "      <td>Melbourne</td>\n",
       "      <td>19</td>\n",
       "      <td>2200</td>\n",
       "      <td>3</td>\n",
       "    </tr>\n",
       "    <tr>\n",
       "      <th>4</th>\n",
       "      <td>https://github.com/radar</td>\n",
       "      <td>Ryan Bigg</td>\n",
       "      <td>Melbourne</td>\n",
       "      <td>166</td>\n",
       "      <td>1700</td>\n",
       "      <td>5</td>\n",
       "    </tr>\n",
       "  </tbody>\n",
       "</table>\n",
       "</div>"
      ],
      "text/plain": [
       "                                URL                Name   Location Stars  \\\n",
       "0    https://github.com/charliesome  Charlie Somerville  Melbourne   270   \n",
       "1  https://github.com/mosh-hamedani       Mosh Hamedani  Melbourne     0   \n",
       "2        https://github.com/JakeLin            Jake Lin  Melbourne   575   \n",
       "3      https://github.com/TheCherno       Yan Chernikov  Melbourne    19   \n",
       "4          https://github.com/radar           Ryan Bigg  Melbourne   166   \n",
       "\n",
       "   Followers Following  \n",
       "0       7800       103  \n",
       "1       3800         1  \n",
       "2       2500        35  \n",
       "3       2200         3  \n",
       "4       1700         5  "
      ]
     },
     "execution_count": 14,
     "metadata": {},
     "output_type": "execute_result"
    }
   ],
   "source": [
    "df.head()"
   ]
  },
  {
   "cell_type": "code",
   "execution_count": 15,
   "metadata": {},
   "outputs": [],
   "source": [
    "df['Popularity_F'] = df['Followers']/df['Followers'].max()*100\n",
    "#df['Stars%'] = df['Stars']/df['Stars'].max()*100\n",
    "#df['Following%'] = df['Following']/df['Following'].max()*100"
   ]
  },
  {
   "cell_type": "code",
   "execution_count": 16,
   "metadata": {},
   "outputs": [
    {
     "data": {
      "text/html": [
       "<div>\n",
       "<style scoped>\n",
       "    .dataframe tbody tr th:only-of-type {\n",
       "        vertical-align: middle;\n",
       "    }\n",
       "\n",
       "    .dataframe tbody tr th {\n",
       "        vertical-align: top;\n",
       "    }\n",
       "\n",
       "    .dataframe thead th {\n",
       "        text-align: right;\n",
       "    }\n",
       "</style>\n",
       "<table border=\"1\" class=\"dataframe\">\n",
       "  <thead>\n",
       "    <tr style=\"text-align: right;\">\n",
       "      <th></th>\n",
       "      <th>URL</th>\n",
       "      <th>Name</th>\n",
       "      <th>Location</th>\n",
       "      <th>Stars</th>\n",
       "      <th>Followers</th>\n",
       "      <th>Following</th>\n",
       "      <th>Popularity_F</th>\n",
       "    </tr>\n",
       "  </thead>\n",
       "  <tbody>\n",
       "    <tr>\n",
       "      <th>0</th>\n",
       "      <td>https://github.com/charliesome</td>\n",
       "      <td>Charlie Somerville</td>\n",
       "      <td>Melbourne</td>\n",
       "      <td>270</td>\n",
       "      <td>7800</td>\n",
       "      <td>103</td>\n",
       "      <td>100.000000</td>\n",
       "    </tr>\n",
       "    <tr>\n",
       "      <th>1</th>\n",
       "      <td>https://github.com/mosh-hamedani</td>\n",
       "      <td>Mosh Hamedani</td>\n",
       "      <td>Melbourne</td>\n",
       "      <td>0</td>\n",
       "      <td>3800</td>\n",
       "      <td>1</td>\n",
       "      <td>48.717949</td>\n",
       "    </tr>\n",
       "    <tr>\n",
       "      <th>2</th>\n",
       "      <td>https://github.com/JakeLin</td>\n",
       "      <td>Jake Lin</td>\n",
       "      <td>Melbourne</td>\n",
       "      <td>575</td>\n",
       "      <td>2500</td>\n",
       "      <td>35</td>\n",
       "      <td>32.051282</td>\n",
       "    </tr>\n",
       "    <tr>\n",
       "      <th>3</th>\n",
       "      <td>https://github.com/TheCherno</td>\n",
       "      <td>Yan Chernikov</td>\n",
       "      <td>Melbourne</td>\n",
       "      <td>19</td>\n",
       "      <td>2200</td>\n",
       "      <td>3</td>\n",
       "      <td>28.205128</td>\n",
       "    </tr>\n",
       "    <tr>\n",
       "      <th>4</th>\n",
       "      <td>https://github.com/radar</td>\n",
       "      <td>Ryan Bigg</td>\n",
       "      <td>Melbourne</td>\n",
       "      <td>166</td>\n",
       "      <td>1700</td>\n",
       "      <td>5</td>\n",
       "      <td>21.794872</td>\n",
       "    </tr>\n",
       "  </tbody>\n",
       "</table>\n",
       "</div>"
      ],
      "text/plain": [
       "                                URL                Name   Location Stars  \\\n",
       "0    https://github.com/charliesome  Charlie Somerville  Melbourne   270   \n",
       "1  https://github.com/mosh-hamedani       Mosh Hamedani  Melbourne     0   \n",
       "2        https://github.com/JakeLin            Jake Lin  Melbourne   575   \n",
       "3      https://github.com/TheCherno       Yan Chernikov  Melbourne    19   \n",
       "4          https://github.com/radar           Ryan Bigg  Melbourne   166   \n",
       "\n",
       "   Followers Following  Popularity_F  \n",
       "0       7800       103    100.000000  \n",
       "1       3800         1     48.717949  \n",
       "2       2500        35     32.051282  \n",
       "3       2200         3     28.205128  \n",
       "4       1700         5     21.794872  "
      ]
     },
     "execution_count": 16,
     "metadata": {},
     "output_type": "execute_result"
    }
   ],
   "source": [
    "df.head()"
   ]
  },
  {
   "cell_type": "code",
   "execution_count": 17,
   "metadata": {},
   "outputs": [],
   "source": [
    "df1 = df.set_index(\"URL\", drop = True)"
   ]
  },
  {
   "cell_type": "code",
   "execution_count": 18,
   "metadata": {},
   "outputs": [
    {
     "data": {
      "text/html": [
       "<div>\n",
       "<style scoped>\n",
       "    .dataframe tbody tr th:only-of-type {\n",
       "        vertical-align: middle;\n",
       "    }\n",
       "\n",
       "    .dataframe tbody tr th {\n",
       "        vertical-align: top;\n",
       "    }\n",
       "\n",
       "    .dataframe thead th {\n",
       "        text-align: right;\n",
       "    }\n",
       "</style>\n",
       "<table border=\"1\" class=\"dataframe\">\n",
       "  <thead>\n",
       "    <tr style=\"text-align: right;\">\n",
       "      <th></th>\n",
       "      <th>Name</th>\n",
       "      <th>Location</th>\n",
       "      <th>Stars</th>\n",
       "      <th>Followers</th>\n",
       "      <th>Following</th>\n",
       "      <th>Popularity_F</th>\n",
       "    </tr>\n",
       "    <tr>\n",
       "      <th>URL</th>\n",
       "      <th></th>\n",
       "      <th></th>\n",
       "      <th></th>\n",
       "      <th></th>\n",
       "      <th></th>\n",
       "      <th></th>\n",
       "    </tr>\n",
       "  </thead>\n",
       "  <tbody>\n",
       "    <tr>\n",
       "      <th>https://github.com/charliesome</th>\n",
       "      <td>Charlie Somerville</td>\n",
       "      <td>Melbourne</td>\n",
       "      <td>270</td>\n",
       "      <td>7800</td>\n",
       "      <td>103</td>\n",
       "      <td>100.000000</td>\n",
       "    </tr>\n",
       "    <tr>\n",
       "      <th>https://github.com/mosh-hamedani</th>\n",
       "      <td>Mosh Hamedani</td>\n",
       "      <td>Melbourne</td>\n",
       "      <td>0</td>\n",
       "      <td>3800</td>\n",
       "      <td>1</td>\n",
       "      <td>48.717949</td>\n",
       "    </tr>\n",
       "    <tr>\n",
       "      <th>https://github.com/JakeLin</th>\n",
       "      <td>Jake Lin</td>\n",
       "      <td>Melbourne</td>\n",
       "      <td>575</td>\n",
       "      <td>2500</td>\n",
       "      <td>35</td>\n",
       "      <td>32.051282</td>\n",
       "    </tr>\n",
       "    <tr>\n",
       "      <th>https://github.com/TheCherno</th>\n",
       "      <td>Yan Chernikov</td>\n",
       "      <td>Melbourne</td>\n",
       "      <td>19</td>\n",
       "      <td>2200</td>\n",
       "      <td>3</td>\n",
       "      <td>28.205128</td>\n",
       "    </tr>\n",
       "    <tr>\n",
       "      <th>https://github.com/radar</th>\n",
       "      <td>Ryan Bigg</td>\n",
       "      <td>Melbourne</td>\n",
       "      <td>166</td>\n",
       "      <td>1700</td>\n",
       "      <td>5</td>\n",
       "      <td>21.794872</td>\n",
       "    </tr>\n",
       "  </tbody>\n",
       "</table>\n",
       "</div>"
      ],
      "text/plain": [
       "                                                Name   Location Stars  \\\n",
       "URL                                                                     \n",
       "https://github.com/charliesome    Charlie Somerville  Melbourne   270   \n",
       "https://github.com/mosh-hamedani       Mosh Hamedani  Melbourne     0   \n",
       "https://github.com/JakeLin                  Jake Lin  Melbourne   575   \n",
       "https://github.com/TheCherno           Yan Chernikov  Melbourne    19   \n",
       "https://github.com/radar                   Ryan Bigg  Melbourne   166   \n",
       "\n",
       "                                  Followers Following  Popularity_F  \n",
       "URL                                                                  \n",
       "https://github.com/charliesome         7800       103    100.000000  \n",
       "https://github.com/mosh-hamedani       3800         1     48.717949  \n",
       "https://github.com/JakeLin             2500        35     32.051282  \n",
       "https://github.com/TheCherno           2200         3     28.205128  \n",
       "https://github.com/radar               1700         5     21.794872  "
      ]
     },
     "execution_count": 18,
     "metadata": {},
     "output_type": "execute_result"
    }
   ],
   "source": [
    "df1.head()"
   ]
  },
  {
   "cell_type": "code",
   "execution_count": 19,
   "metadata": {},
   "outputs": [
    {
     "name": "stdout",
     "output_type": "stream",
     "text": [
      "The User is in the top 32.05128205128205 of Melbourne Github users based on followers\n"
     ]
    }
   ],
   "source": [
    "df2 = df1.loc[\"https://github.com/JakeLin\",\"Popularity_F\"]\n",
    "print('The User is in the top',df2,'of Melbourne Github users based on followers')\n"
   ]
  },
  {
   "cell_type": "code",
   "execution_count": null,
   "metadata": {},
   "outputs": [],
   "source": []
  }
 ],
 "metadata": {
  "kernelspec": {
   "display_name": "Python 3",
   "language": "python",
   "name": "python3"
  },
  "language_info": {
   "codemirror_mode": {
    "name": "ipython",
    "version": 3
   },
   "file_extension": ".py",
   "mimetype": "text/x-python",
   "name": "python",
   "nbconvert_exporter": "python",
   "pygments_lexer": "ipython3",
   "version": "3.7.1"
  }
 },
 "nbformat": 4,
 "nbformat_minor": 2
}
